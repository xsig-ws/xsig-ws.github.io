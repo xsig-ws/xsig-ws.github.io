{
 "cells": [
  {
   "cell_type": "code",
   "execution_count": 1,
   "id": "2bdaee5a",
   "metadata": {},
   "outputs": [],
   "source": [
    "import subprocess\n",
    "from pathlib import Path\n",
    "\n",
    "def my_system(cmd):\n",
    "    return subprocess.run(cmd, capture_output=True).stdout.decode(\"utf-8\").split(\"\\n\")\n",
    "\n",
    "def find(pattern, including=None):\n",
    "    a = my_system([\"find\", \".\", \"-name\", pattern])\n",
    "    a = [l for l in a if len(l) != 0 and Path(l).is_file()]\n",
    "    if including == None:\n",
    "        return a\n",
    "    else: \n",
    "        res = []\n",
    "        for l in a:\n",
    "            if subprocess.run([\"grep\", \"-q\", including, l]).returncode == 0:\n",
    "                res.append(l)\n",
    "        return res\n",
    "\n",
    "def rename(fromf, tof):\n",
    "#    subprocess.run([\"git\", \"mv\", fromf, tof])\n",
    "    subprocess.run([\"mv\", fromf, tof])\n",
    "\n",
    "def replace(fn, froms, tos):\n",
    "    froms = froms.replace(\"/\", \"\\/\")\n",
    "    tos = tos.replace(\"/\", \"\\/\")\n",
    "    cmd = f\"s/{froms}/{tos}/g\"\n",
    "    subprocess.run([\"sed\", \"-i\", \"\", cmd, fn])\n",
    "\n",
    "def nkf(fn):\n",
    "    subprocess.run([\"nkf\", \"--in-place\", fn])"
   ]
  },
  {
   "cell_type": "code",
   "execution_count": 4,
   "id": "165a36b0",
   "metadata": {},
   "outputs": [],
   "source": [
    "for fn in find(\"*.html\"):\n",
    "    replace(fn, \"http://xsig.hpcc.jp/\", \"/\")\n",
    "\n",
    "#    replace(fn, \"https://xsig.ipsj.or.jp/\", \"/\")\n",
    "#    replace(fn, \"http://xsig.ipsj.or.jp/\", \"/\")"
   ]
  },
  {
   "cell_type": "code",
   "execution_count": 16,
   "id": "d25a5d38",
   "metadata": {},
   "outputs": [
    {
     "data": {
      "text/plain": [
       "['./2013/cfp.html.en']"
      ]
     },
     "execution_count": 16,
     "metadata": {},
     "output_type": "execute_result"
    }
   ],
   "source": [
    "find(\"*.html.en\")\n",
    "\n"
   ]
  },
  {
   "cell_type": "code",
   "execution_count": 5,
   "id": "a7fcd6c6",
   "metadata": {},
   "outputs": [],
   "source": [
    "import os\n",
    "os.chdir(\"docs\")"
   ]
  },
  {
   "cell_type": "code",
   "execution_count": 27,
   "id": "fb99d031",
   "metadata": {},
   "outputs": [],
   "source": []
  },
  {
   "cell_type": "code",
   "execution_count": 8,
   "id": "24c0a68a",
   "metadata": {},
   "outputs": [],
   "source": [
    "for fn in find(\"*.html.ja\"):\n",
    "    nkf(fn)\n",
    "    replace(fn, \"EUC-JP\", \"UTF8\")\n",
    "    replace(fn, \".html.ja\", \".ja.html\")\n",
    "    replace(fn, \".html.en\", \".en.html\")\n",
    "    rename(fn, fn.replace(\".html.ja\", \".ja.html\"))\n",
    "        "
   ]
  },
  {
   "cell_type": "code",
   "execution_count": 18,
   "id": "983ea1a9",
   "metadata": {},
   "outputs": [],
   "source": [
    "for fn in find(\"*.html.en\"):\n",
    "    nkf(fn)\n",
    "    replace(fn, \"EUC-JP\", \"UTF8\")\n",
    "    replace(fn, \".html.ja\", \".ja.html\")\n",
    "    replace(fn, \".html.en\", \".en.html\")\n",
    "    rename(fn, fn.replace(\".html.en\", \".en.html\"))"
   ]
  },
  {
   "cell_type": "code",
   "execution_count": 5,
   "id": "3a598ff5",
   "metadata": {},
   "outputs": [],
   "source": [
    "for fn in find(\"*.html\"):\n",
    "    nkf(fn)\n",
    "    replace(fn, \"EUC-JP\", \"UTF8\")\n",
    "    replace(fn, \".html.ja\", \".ja.html\")\n",
    "    replace(fn, \".html.en\", \".en.html\")    "
   ]
  },
  {
   "cell_type": "code",
   "execution_count": 13,
   "id": "76ddf5a3",
   "metadata": {},
   "outputs": [],
   "source": [
    "from pathlib import Path\n",
    "import re\n",
    "pat = re.compile(r\"\"\"<\\?php include\\(\"(.*)\"\\);\\?>\"\"\")\n",
    "\n",
    "\n",
    "def process_one_line(parent_dir, line):\n",
    "    m = pat.search(line)\n",
    "    if m:\n",
    "        path = parent_dir / m[1]\n",
    "        a = phpInclude(path, p_dir=parent_dir)\n",
    "        return [\"<!-- included from \" + m[1] + \" Start -->\\n\"] + a + [\"<!-- included from \" + m[1] + \" END -->\\n\"] \n",
    "    else:\n",
    "        return [line]\n",
    "\n",
    "\n",
    "def phpInclude(fn, p_dir=None):\n",
    "    '''returns array of lines with \\n'''\n",
    "    if p_dir == None:\n",
    "        p_dir = Path(fn).parent\n",
    "    try:\n",
    "        with open(fn) as f:\n",
    "            res = []\n",
    "            for line in f.readlines():\n",
    "                res += process_one_line(p_dir, line)\n",
    "        return res\n",
    "    except FileNotFoundError:\n",
    "        print(f\"cannot find {fn}, ignore\")\n",
    "        return []\n",
    "\n",
    "def dump(filename, array):\n",
    "    with open(filename, \"w\") as f:\n",
    "        for line in array:\n",
    "            f.write(line)\n",
    "\n",
    "def include_and_replace(fn):\n",
    "    res = phpInclude(fn)\n",
    "    rep_fn = fn+\".replaced\"\n",
    "    dump(rep_fn, res)\n",
    "    subprocess.run([\"mv\", rep_fn, fn])\n",
    "\n",
    "        "
   ]
  },
  {
   "cell_type": "code",
   "execution_count": 19,
   "id": "ce110bd2",
   "metadata": {},
   "outputs": [
    {
     "name": "stdout",
     "output_type": "stream",
     "text": [
      "./2013/cfp.en.html\n",
      "cannot find 2013/include/theme-en.html, ignore\n",
      "./2009/cell/outline.html\n",
      "./2004/inner/index.html\n"
     ]
    }
   ],
   "source": [
    "filenames = \\\n",
    "    find(\"*.html\",    including=\"php\") + \\\n",
    "    find(\"*.html.ja\", including=\"php\") + \\\n",
    "    find(\"*.html.en\", including=\"php\")\n",
    "\n",
    "for fn in filenames:\n",
    "    print(fn)\n",
    "    include_and_replace(fn)"
   ]
  },
  {
   "cell_type": "code",
   "execution_count": 77,
   "id": "e7f37e4a",
   "metadata": {},
   "outputs": [],
   "source": [
    "dump(\"test.html\", res)"
   ]
  },
  {
   "cell_type": "code",
   "execution_count": 14,
   "id": "95261190",
   "metadata": {},
   "outputs": [
    {
     "name": "stdout",
     "output_type": "stream",
     "text": [
      "cannot find 2013/include/theme-en.html, ignore\n"
     ]
    }
   ],
   "source": [
    "include_and_replace(\"2013/test.html\")\n"
   ]
  },
  {
   "cell_type": "code",
   "execution_count": 10,
   "id": "86eb42b4",
   "metadata": {},
   "outputs": [],
   "source": [
    "for fn in find(\"*.html\", \"\\\"/history/\"):\n",
    "    replace(fn, \"\\\"/history/\", \"\\\"https://archive.xsig.ipsj.or.jp/history/\")"
   ]
  },
  {
   "cell_type": "code",
   "execution_count": 11,
   "id": "da7ea69b",
   "metadata": {},
   "outputs": [
    {
     "data": {
      "text/plain": [
       "['./2022/about/history.html',\n",
       " './2022/en/about/history.html',\n",
       " './2021/about/history.html',\n",
       " './2021/en/about/history.html']"
      ]
     },
     "execution_count": 11,
     "metadata": {},
     "output_type": "execute_result"
    }
   ],
   "source": [
    "find(\"*.html\", \"\\\"/history/\")"
   ]
  },
  {
   "cell_type": "code",
   "execution_count": 36,
   "id": "100903f4",
   "metadata": {},
   "outputs": [],
   "source": [
    "for fn in find(\"*.html\", \"phase\"):\n",
    "    replace(fn, \"http://phase.hpcc.jp/phase/sacsis/SACSIS2003/archives\", \"http://sacsis.hpcc.jp/2003/\")"
   ]
  },
  {
   "cell_type": "code",
   "execution_count": 25,
   "id": "5e051ef6",
   "metadata": {},
   "outputs": [],
   "source": [
    "replace(\"2013/test.html\", \"http://phase.hpcc.jp/phase/sacsis/SACSIS2003/archives/\", \"http://sacsis.hpcc.jp/2003/\")"
   ]
  },
  {
   "cell_type": "code",
   "execution_count": 37,
   "id": "59971e42",
   "metadata": {},
   "outputs": [],
   "source": [
    "import os\n",
    "os.chdir(\"../JSPP\")\n",
    "\n"
   ]
  },
  {
   "cell_type": "code",
   "execution_count": 38,
   "id": "ba5f9665",
   "metadata": {},
   "outputs": [],
   "source": [
    "for fn in find(\"*.html\"):\n",
    "    replace(fn, \"iso-2022-jp\", \"UTF8\")"
   ]
  },
  {
   "cell_type": "code",
   "execution_count": null,
   "id": "40bfedce",
   "metadata": {},
   "outputs": [],
   "source": []
  }
 ],
 "metadata": {
  "kernelspec": {
   "display_name": "Python 3 (ipykernel)",
   "language": "python",
   "name": "python3"
  },
  "language_info": {
   "codemirror_mode": {
    "name": "ipython",
    "version": 3
   },
   "file_extension": ".py",
   "mimetype": "text/x-python",
   "name": "python",
   "nbconvert_exporter": "python",
   "pygments_lexer": "ipython3",
   "version": "3.9.12"
  }
 },
 "nbformat": 4,
 "nbformat_minor": 5
}
